{
 "cells": [
  {
   "cell_type": "code",
   "execution_count": 2,
   "id": "be9637bc-395f-40dc-89e1-18cdb750e53a",
   "metadata": {},
   "outputs": [],
   "source": [
    "import os\n",
    "import torch\n",
    "from torchsummary import summary\n",
    "\n",
    "from det3d import torchie\n",
    "from det3d.models import build_detector\n",
    "from det3d.torchie.parallel import MegDataParallel\n",
    "from det3d.torchie.trainer import load_checkpoint\n",
    "\n",
    "from torch.utils.data import DataLoader\n",
    "from det3d.datasets import build_dataset\n",
    "from det3d.torchie.parallel import collate_kitti\n",
    "from det3d.torchie.trainer.trainer import example_to_device"
   ]
  },
  {
   "cell_type": "code",
   "execution_count": 3,
   "id": "d52c10dd-5e4b-48fe-81e3-95c1960d303d",
   "metadata": {},
   "outputs": [],
   "source": [
    "cfg = torchie.Config.fromfile(\"../examples/second/configs/config.py\")"
   ]
  },
  {
   "cell_type": "code",
   "execution_count": 4,
   "id": "9989a74a-252a-4e13-9a1b-2a05a44461f8",
   "metadata": {},
   "outputs": [],
   "source": [
    "model = build_detector(cfg.model, train_cfg=None, test_cfg=cfg.test_cfg)\n",
    "checkpoint_path = os.path.join(\"../exp_se_ssd_v1_8\", \"se-ssd-model.pth\")\n",
    "checkpoint = load_checkpoint(model, checkpoint_path, map_location=\"cpu\")"
   ]
  },
  {
   "cell_type": "code",
   "execution_count": null,
   "id": "effd8de4-2752-40d4-879e-2f50892656c4",
   "metadata": {},
   "outputs": [],
   "source": [
    "model = MegDataParallel(model, device_ids=[0])"
   ]
  },
  {
   "cell_type": "code",
   "execution_count": 26,
   "id": "69eee48e-e2f3-45bb-baf4-aa208390197a",
   "metadata": {},
   "outputs": [],
   "source": [
    "# data part\n",
    "dataset = build_dataset(cfg.data.val)\n",
    "batch_size = cfg.data.samples_per_gpu\n",
    "num_workers = cfg.data.workers_per_gpu\n",
    "data_loader = DataLoader(dataset, batch_size=batch_size, sampler=None, num_workers=num_workers, collate_fn=collate_kitti, shuffle=False,)"
   ]
  },
  {
   "cell_type": "code",
   "execution_count": 27,
   "id": "9809640a-54ed-4fac-9e59-a60e7b615c53",
   "metadata": {},
   "outputs": [],
   "source": [
    "# data part\n",
    "def get_dataset_ids(mode='val'):\n",
    "    assert mode in ['test', 'val', 'trainval', 'val']\n",
    "    id_file_path = \"../det3d/datasets/ImageSets/{}.txt\".format(mode)\n",
    "    with open(id_file_path, 'r') as f:\n",
    "        ids = f.readlines()\n",
    "    ids = list(map(int, ids))\n",
    "    return ids"
   ]
  },
  {
   "cell_type": "code",
   "execution_count": 40,
   "id": "258bba78-4b1f-4e9a-9f7d-c8a9375d8d80",
   "metadata": {},
   "outputs": [],
   "source": [
    "# data part\n",
    "kitti_dataset = data_loader.dataset         # det3d.datasets.kitti.kitti.KittiDataset\n",
    "samples = []\n",
    "valid_ids = get_dataset_ids('test')\n",
    "for id in [6]:\n",
    "    index = valid_ids.index(id)\n",
    "    samples.append(kitti_dataset[index])\n",
    "batch_samples = collate_kitti(samples)\n",
    "example = example_to_device(batch_samples, device=torch.device('cuda'))"
   ]
  },
  {
   "cell_type": "code",
   "execution_count": 41,
   "id": "801ed3b6-7f97-4fbd-8a4b-24e413e181ef",
   "metadata": {},
   "outputs": [
    {
     "name": "stdout",
     "output_type": "stream",
     "text": [
      "['metadata', 'points', 'voxels', 'shape', 'num_points', 'num_voxels', 'coordinates', 'anchors', 'calib', 'annos']\n"
     ]
    }
   ],
   "source": [
    "print([k for k, _ in example.items()])\n",
    "annos = example['annos']\n",
    "meta = example['metadata']"
   ]
  },
  {
   "cell_type": "code",
   "execution_count": 42,
   "id": "196862fe-1bec-482c-958a-adf4f4ccf443",
   "metadata": {},
   "outputs": [],
   "source": [
    "with torch.no_grad():\n",
    "    # outputs: predicted results in lidar coord.\n",
    "    outputs = model(example, return_loss=False, rescale=True)"
   ]
  },
  {
   "cell_type": "code",
   "execution_count": 43,
   "id": "969576af-a8b5-4f9a-857e-32c1a231b66e",
   "metadata": {},
   "outputs": [
    {
     "data": {
      "text/plain": [
       "([{'image_prefix': PosixPath('/home/liyue/workspace/datasets/KITTI'),\n",
       "   'num_point_features': 4,\n",
       "   'image_idx': 15,\n",
       "   'image_shape': array([ 374, 1238], dtype=int32),\n",
       "   'token': '15'}],\n",
       " array([{'boxes': array([[ 4.34868808,  2.78305102, -0.95996055,  1.66999996,  4.13999987,\n",
       "          1.57000005,  1.72000003],\n",
       "        [ 7.87614118, -4.70337004, -0.5614374 ,  1.05999994,  0.73000002,\n",
       "          1.80999994,  1.25      ],\n",
       "        [24.41451656, -2.33182605, -0.70579305,  0.83999997,  0.86000001,\n",
       "          1.73000002, -1.48000002],\n",
       "        [24.49862131, -3.17148418, -0.6651138 ,  0.89999998,  0.94999999,\n",
       "          1.80999994, -1.46000004],\n",
       "        [23.5540589 ,  1.91323242, -0.58234927,  0.92000002,  1.00999999,\n",
       "          1.77999997, -1.53999996]]), 'names': array(['Car', 'Pedestrian', 'Pedestrian', 'Pedestrian', 'Pedestrian'],\n",
       "       dtype='<U10')}], dtype=object),\n",
       " [{'box3d_lidar': tensor([[ 4.4854,  2.7864, -0.9088,  1.6959,  4.0749,  1.5271,  1.7115],\n",
       "           [27.6373,  3.5021, -0.6575,  1.5260,  3.1540,  1.4776,  4.7586],\n",
       "           [34.0037, 26.0929, -1.3481,  1.7285,  3.9487,  1.5847, -0.4384],\n",
       "           [51.1645, -1.3558, -0.7618,  1.6977,  3.8721,  1.7024,  2.5026],\n",
       "           [47.5214, 35.7089, -2.2138,  1.6744,  3.5265,  1.5699,  0.6065]],\n",
       "          device='cuda:0'),\n",
       "   'scores': tensor([0.4420, 0.1753, 0.1482, 0.0935, 0.0630], device='cuda:0'),\n",
       "   'label_preds': tensor([0, 0, 0, 0, 0], device='cuda:0'),\n",
       "   'metadata': {'image_prefix': PosixPath('/home/liyue/workspace/datasets/KITTI'),\n",
       "    'num_point_features': 4,\n",
       "    'image_idx': 15,\n",
       "    'image_shape': array([ 374, 1238], dtype=int32),\n",
       "    'token': '15'}}])"
      ]
     },
     "execution_count": 43,
     "metadata": {},
     "output_type": "execute_result"
    }
   ],
   "source": [
    "meta, annos, outputs"
   ]
  },
  {
   "cell_type": "code",
   "execution_count": 44,
   "id": "477e5701-6aff-40e6-8167-8dd33874721d",
   "metadata": {},
   "outputs": [],
   "source": [
    "results_dict = {}\n",
    "for output in outputs:\n",
    "    token = output[\"metadata\"][\"token\"]\n",
    "    for k, v in output.items():\n",
    "        if k not in [\"metadata\", ]:\n",
    "            output[k] = v.to(torch.device(\"cpu\"))\n",
    "    results_dict.update({token: output, })"
   ]
  },
  {
   "cell_type": "code",
   "execution_count": 45,
   "id": "7e49fb11-7789-497d-9cf4-cffa996663b9",
   "metadata": {},
   "outputs": [
    {
     "data": {
      "text/plain": [
       "{'15': {'box3d_lidar': tensor([[ 4.4854,  2.7864, -0.9088,  1.6959,  4.0749,  1.5271,  1.7115],\n",
       "          [27.6373,  3.5021, -0.6575,  1.5260,  3.1540,  1.4776,  4.7586],\n",
       "          [34.0037, 26.0929, -1.3481,  1.7285,  3.9487,  1.5847, -0.4384],\n",
       "          [51.1645, -1.3558, -0.7618,  1.6977,  3.8721,  1.7024,  2.5026],\n",
       "          [47.5214, 35.7089, -2.2138,  1.6744,  3.5265,  1.5699,  0.6065]]),\n",
       "  'scores': tensor([0.4420, 0.1753, 0.1482, 0.0935, 0.0630]),\n",
       "  'label_preds': tensor([0, 0, 0, 0, 0]),\n",
       "  'metadata': {'image_prefix': PosixPath('/home/liyue/workspace/datasets/KITTI'),\n",
       "   'num_point_features': 4,\n",
       "   'image_idx': 15,\n",
       "   'image_shape': array([ 374, 1238], dtype=int32),\n",
       "   'token': '15'}}}"
      ]
     },
     "execution_count": 45,
     "metadata": {},
     "output_type": "execute_result"
    }
   ],
   "source": [
    "results_dict"
   ]
  },
  {
   "cell_type": "code",
   "execution_count": null,
   "id": "bb022054-215d-4b9e-a0c9-6f3da546ca52",
   "metadata": {},
   "outputs": [],
   "source": []
  }
 ],
 "metadata": {
  "kernelspec": {
   "display_name": "Python 3.8 (XPython)",
   "language": "python",
   "name": "xpython"
  },
  "language_info": {
   "file_extension": ".py",
   "mimetype": "text/x-python",
   "name": "python",
   "version": "3.8.13"
  }
 },
 "nbformat": 4,
 "nbformat_minor": 5
}
